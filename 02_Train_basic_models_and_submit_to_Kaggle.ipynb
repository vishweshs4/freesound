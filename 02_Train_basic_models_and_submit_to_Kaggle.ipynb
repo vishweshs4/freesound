{
 "cells": [
  {
   "cell_type": "markdown",
   "metadata": {},
   "source": [
    "We will be using `fastai2` which is still under active development. I am using pip editable install as explained in the [fastai2 repository](https://github.com/fastai/fastai2). This gives me a little bit more of control and also allows me to to navigate through the code. \n",
    "\n",
    "Alternatively, you can install `fastai2` directly from github: `pip install git+https://github.com/fastai/fastai2`\n",
    "\n",
    "When working on this notebook, I was at the following version (hash in git commits) of the library: `3f27f55bb298591aef8f2f72e32615317cc2f77e`"
   ]
  },
  {
   "cell_type": "code",
   "execution_count": 1,
   "metadata": {},
   "outputs": [],
   "source": [
    "from fastai2.test import *\n",
    "from fastai2.basics import *\n",
    "from fastai2.callback.all import *\n",
    "from fastai2.vision.all import *\n",
    "\n",
    "from pathlib import Path\n",
    "import pandas as pd\n",
    "import numpy as np\n",
    "import librosa"
   ]
  },
  {
   "cell_type": "markdown",
   "metadata": {},
   "source": [
    "The first order of business will be to read in our data."
   ]
  },
  {
   "cell_type": "code",
   "execution_count": 2,
   "metadata": {},
   "outputs": [],
   "source": [
    "trn_df = pd.read_csv('data/train.csv')\n",
    "trn_paths = list(Path('data/audio_train/').iterdir())"
   ]
  },
  {
   "cell_type": "code",
   "execution_count": 3,
   "metadata": {},
   "outputs": [
    {
     "data": {
      "text/plain": [
       "[PosixPath('data/audio_train/5fca79da.wav'),\n",
       " PosixPath('data/audio_train/5f3f655e.wav'),\n",
       " PosixPath('data/audio_train/8c0e42bb.wav'),\n",
       " PosixPath('data/audio_train/a9bd898d.wav')]"
      ]
     },
     "execution_count": 3,
     "metadata": {},
     "output_type": "execute_result"
    }
   ],
   "source": [
    "trn_paths[:4]"
   ]
  },
  {
   "cell_type": "markdown",
   "metadata": {},
   "source": [
    "Our first model will be a simple CNN on first two seconds of audio downsampled to 16 khz.\n",
    "\n",
    "Let's load the data with the medium-level `DataSource` API. Let's first define how the sounds should be read in and later we will look at constructing the labels.\n",
    "\n",
    "We could resample the audio files on the fly, but that is quite an expensive operation. It's better to incur this cost ones before training and save the results vs having to suffer it during every epoch."
   ]
  },
  {
   "cell_type": "code",
   "execution_count": 4,
   "metadata": {},
   "outputs": [],
   "source": [
    "path = trn_paths[0]"
   ]
  },
  {
   "cell_type": "code",
   "execution_count": 5,
   "metadata": {},
   "outputs": [
    {
     "name": "stdout",
     "output_type": "stream",
     "text": [
      "CPU times: user 787 ms, sys: 22.5 ms, total: 809 ms\n",
      "Wall time: 855 ms\n"
     ]
    },
    {
     "data": {
      "text/plain": [
       "(array([-4.5412817e-06, -4.5701829e-05, -1.4590675e-05, ...,\n",
       "        -1.3681429e-05, -4.5426914e-05, -5.1247978e-05], dtype=float32), 16000)"
      ]
     },
     "execution_count": 5,
     "metadata": {},
     "output_type": "execute_result"
    }
   ],
   "source": [
    "%time librosa.core.load(path, sr=16000)"
   ]
  },
  {
   "cell_type": "code",
   "execution_count": 6,
   "metadata": {},
   "outputs": [
    {
     "name": "stdout",
     "output_type": "stream",
     "text": [
      "CPU times: user 1.99 ms, sys: 1e+03 ns, total: 1.99 ms\n",
      "Wall time: 1.47 ms\n"
     ]
    },
    {
     "data": {
      "text/plain": [
       "(array([ 0.0000000e+00, -3.0517578e-05, -3.0517578e-05, ...,\n",
       "        -3.0517578e-05, -6.1035156e-05, -3.0517578e-05], dtype=float32), 44100)"
      ]
     },
     "execution_count": 6,
     "metadata": {},
     "output_type": "execute_result"
    }
   ],
   "source": [
    "%time librosa.core.load(path, sr=None)"
   ]
  },
  {
   "cell_type": "markdown",
   "metadata": {},
   "source": [
    "Reading a file without resampling is much, much quicker.\n",
    "\n",
    "Let's resample the files beforehand and save them to disk."
   ]
  },
  {
   "cell_type": "code",
   "execution_count": 7,
   "metadata": {},
   "outputs": [],
   "source": [
    "!rm -rf data/audio_train_22k\n",
    "!rm -rf data/audio_test_22k"
   ]
  },
  {
   "cell_type": "code",
   "execution_count": 8,
   "metadata": {},
   "outputs": [],
   "source": [
    "!mkdir data/audio_train_22k\n",
    "!mkdir data/audio_test_22k"
   ]
  },
  {
   "cell_type": "markdown",
   "metadata": {},
   "source": [
    "In the multiple runs I carried out, setting `norm=True` performed better. But I am not really sure how this normalization work. I am also not sure if the difference in performance is due to the specific architecture we go for being particularly susceptible, or whether this normalization in general is a net positive.\n",
    "\n",
    "Without more information I am concerned setting `norm=False` would remove useful information from the data.\n",
    "\n",
    "Initially, I resampled the data to 16 khz. But upon reading more on the forums, that might not have been such a great idea. The dataset contains sounds that are not only human speech, becaue of [the nyquist frequency] that means that with 16 khz there is significant chance that we would loose useful information. Going with 22050 instead."
   ]
  },
  {
   "cell_type": "code",
   "execution_count": 9,
   "metadata": {},
   "outputs": [],
   "source": [
    "def resample(path, target_sr, output_dir):\n",
    "    x, sr = librosa.core.load(path, sr=target_sr)\n",
    "    librosa.output.write_wav(f'{output_dir}/{path.name}', x, sr, norm=False)\n",
    "    \n",
    "def resample_train(path): resample(path, 22050, 'data/audio_train_22k/')\n",
    "def resample_test(path): resample(path, 22050, 'data/audio_test_22k/')"
   ]
  },
  {
   "cell_type": "code",
   "execution_count": 10,
   "metadata": {},
   "outputs": [
    {
     "data": {
      "text/html": [],
      "text/plain": [
       "<IPython.core.display.HTML object>"
      ]
     },
     "metadata": {},
     "output_type": "display_data"
    },
    {
     "name": "stdout",
     "output_type": "stream",
     "text": [
      "CPU times: user 4.57 s, sys: 655 ms, total: 5.22 s\n",
      "Wall time: 3min 30s\n"
     ]
    },
    {
     "data": {
      "text/plain": [
       "(#9473) [None,None,None,None,None,None,None,None,None,None...]"
      ]
     },
     "execution_count": 10,
     "metadata": {},
     "output_type": "execute_result"
    }
   ],
   "source": [
    "%time parallel(resample_train, trn_paths)"
   ]
  },
  {
   "cell_type": "markdown",
   "metadata": {},
   "source": [
    "There are 3 files in the test set that are corrupt - let's remove them before proceeding."
   ]
  },
  {
   "cell_type": "code",
   "execution_count": 11,
   "metadata": {},
   "outputs": [],
   "source": [
    "tst_paths = list(Path('data/audio_test/').iterdir())"
   ]
  },
  {
   "cell_type": "code",
   "execution_count": 12,
   "metadata": {},
   "outputs": [
    {
     "data": {
      "text/html": [],
      "text/plain": [
       "<IPython.core.display.HTML object>"
      ]
     },
     "metadata": {},
     "output_type": "display_data"
    },
    {
     "name": "stdout",
     "output_type": "stream",
     "text": [
      "CPU times: user 4.34 s, sys: 650 ms, total: 4.99 s\n",
      "Wall time: 2min 51s\n"
     ]
    },
    {
     "data": {
      "text/plain": [
       "(#9400) [None,None,None,None,None,None,None,None,None,None...]"
      ]
     },
     "execution_count": 12,
     "metadata": {},
     "output_type": "execute_result"
    }
   ],
   "source": [
    "%time parallel(resample_test, tst_paths)"
   ]
  },
  {
   "cell_type": "markdown",
   "metadata": {},
   "source": [
    "### Loading the data with DataSource"
   ]
  },
  {
   "cell_type": "code",
   "execution_count": 5,
   "metadata": {},
   "outputs": [],
   "source": [
    "trn_paths = list(Path('data/audio_train_22k/').iterdir())\n",
    "tst_paths = list(Path('data/audio_test_22k/').iterdir())"
   ]
  },
  {
   "cell_type": "code",
   "execution_count": 6,
   "metadata": {},
   "outputs": [],
   "source": [
    "def open_audio_file(path):\n",
    "    x, sr = librosa.core.load(path, sr=None)\n",
    "    return np.pad(x, (0, 72_000), 'constant')[:32_000].reshape(1, -1)"
   ]
  },
  {
   "cell_type": "code",
   "execution_count": 7,
   "metadata": {},
   "outputs": [],
   "source": [
    "trn_df_idx = trn_df.set_index('fname')"
   ]
  },
  {
   "cell_type": "code",
   "execution_count": 8,
   "metadata": {},
   "outputs": [],
   "source": [
    "def item_to_label(path): return trn_df_idx.loc[path.name].label"
   ]
  },
  {
   "cell_type": "code",
   "execution_count": 9,
   "metadata": {},
   "outputs": [],
   "source": [
    "tfms = [[open_audio_file], [item_to_label, Categorize()]]\n",
    "item_audio_tfms = [ToTensor()]"
   ]
  },
  {
   "cell_type": "markdown",
   "metadata": {},
   "source": [
    "Randomly assigning 20% of data to the validation set."
   ]
  },
  {
   "cell_type": "code",
   "execution_count": 10,
   "metadata": {},
   "outputs": [],
   "source": [
    "split_idxs = RandomSplitter()(trn_paths)"
   ]
  },
  {
   "cell_type": "code",
   "execution_count": 11,
   "metadata": {},
   "outputs": [],
   "source": [
    "dsrc = DataSource(trn_paths, tfms, splits=split_idxs)"
   ]
  },
  {
   "cell_type": "code",
   "execution_count": 12,
   "metadata": {},
   "outputs": [],
   "source": [
    "batch_tfms = [Cuda()]\n",
    "dbch = dsrc.databunch(after_item=item_audio_tfms, after_batch=batch_tfms, bs=128, num_workers=12)"
   ]
  },
  {
   "cell_type": "markdown",
   "metadata": {},
   "source": [
    "Let's calculate the mean and standard deviation on the train set for normalization."
   ]
  },
  {
   "cell_type": "code",
   "execution_count": 13,
   "metadata": {},
   "outputs": [],
   "source": [
    "means, std_devs = [], []\n",
    "\n",
    "for batch in dbch.train_dl:\n",
    "    means.append(batch[0].mean().cpu().item())\n",
    "    std_devs.append(batch[0].std().cpu().item())"
   ]
  },
  {
   "cell_type": "markdown",
   "metadata": {},
   "source": [
    "This skips the 20% of data that got assigned to the validation set, but should be good enough."
   ]
  },
  {
   "cell_type": "code",
   "execution_count": 14,
   "metadata": {},
   "outputs": [
    {
     "data": {
      "text/plain": [
       "(8.125128800787995e-05, 0.11881321794905905)"
      ]
     },
     "execution_count": 14,
     "metadata": {},
     "output_type": "execute_result"
    }
   ],
   "source": [
    "np.mean(means), np.mean(std_devs)"
   ]
  },
  {
   "cell_type": "markdown",
   "metadata": {},
   "source": [
    "The mean is very close to zero, so that is something that we can disregard, but let's make sure divide the signal by 0.114 before we feed it to the model."
   ]
  },
  {
   "cell_type": "code",
   "execution_count": 15,
   "metadata": {},
   "outputs": [],
   "source": [
    "def open_audio_file(path):\n",
    "    x, sr = librosa.core.load(path, sr=None)\n",
    "    return np.pad(x, (0, 72_000), 'constant')[:32_000].reshape(1, -1) / 0.11 # normalizing the data\n",
    "\n",
    "tfms = [[open_audio_file], [item_to_label, Categorize()]]\n",
    "item_audio_tfms = [ToTensor()]\n",
    "\n",
    "dsrc = DataSource(trn_paths, tfms, splits=split_idxs)\n",
    "batch_tfms = [Cuda()]\n",
    "dbch = dsrc.databunch(after_item=item_audio_tfms, after_batch=batch_tfms, bs=128, num_workers=12)"
   ]
  },
  {
   "cell_type": "code",
   "execution_count": 16,
   "metadata": {},
   "outputs": [],
   "source": [
    "means, std_devs = [], []\n",
    "\n",
    "for batch in dbch.train_dl:\n",
    "    means.append(batch[0].mean().cpu().item())\n",
    "    std_devs.append(batch[0].std().cpu().item())"
   ]
  },
  {
   "cell_type": "code",
   "execution_count": 17,
   "metadata": {},
   "outputs": [
    {
     "data": {
      "text/plain": [
       "(0.0009544457394533033, 1.0828915400020147)"
      ]
     },
     "execution_count": 17,
     "metadata": {},
     "output_type": "execute_result"
    }
   ],
   "source": [
    "np.mean(means), np.mean(std_devs)"
   ]
  },
  {
   "cell_type": "markdown",
   "metadata": {},
   "source": [
    "And we are all set. Mean of 0 and a standard deviation of 1 will make the task slightly easier for our model."
   ]
  },
  {
   "cell_type": "markdown",
   "metadata": {},
   "source": [
    "### Building the model"
   ]
  },
  {
   "cell_type": "markdown",
   "metadata": {},
   "source": [
    "Let's initially use the Conv1d architecture from this [tutorial](https://www.kaggle.com/fizzbuzz/beginner-s-guide-to-audio-data)"
   ]
  },
  {
   "cell_type": "code",
   "execution_count": 18,
   "metadata": {},
   "outputs": [],
   "source": [
    "def conv_block(in_channels, out_channels, kernel_size):\n",
    "    return nn.Sequential(\n",
    "        nn.Conv1d(in_channels, out_channels, kernel_size),\n",
    "        nn.ReLU(),\n",
    "        nn.BatchNorm1d(out_channels),\n",
    "        nn.Conv1d(out_channels, out_channels, kernel_size),\n",
    "        nn.ReLU(),\n",
    "        nn.BatchNorm1d(out_channels),\n",
    "    )"
   ]
  },
  {
   "cell_type": "code",
   "execution_count": 19,
   "metadata": {},
   "outputs": [],
   "source": [
    "def pool_and_dropout_block(pool_size):\n",
    "    return nn.Sequential(\n",
    "        nn.MaxPool1d(pool_size),\n",
    "        nn.Dropout(0.1)\n",
    "    )"
   ]
  },
  {
   "cell_type": "code",
   "execution_count": 20,
   "metadata": {},
   "outputs": [],
   "source": [
    "def fc_block(in_features, out_features):\n",
    "    return nn.Sequential(\n",
    "        nn.Linear(in_features, out_features),\n",
    "        nn.ReLU(),\n",
    "        nn.BatchNorm1d(out_features),\n",
    "    )"
   ]
  },
  {
   "cell_type": "code",
   "execution_count": 21,
   "metadata": {},
   "outputs": [],
   "source": [
    "arch = nn.Sequential(\n",
    "    conv_block(1, 16, 9),\n",
    "    pool_and_dropout_block(16),\n",
    "    conv_block(16, 32, 3),\n",
    "    pool_and_dropout_block(4),\n",
    "    conv_block(32, 64, 3),\n",
    "    pool_and_dropout_block(4),\n",
    "    conv_block(64, 128, 3),\n",
    "    nn.AdaptiveAvgPool1d(1),\n",
    "    Flatten(),\n",
    "    fc_block(128, 128),\n",
    "    fc_block(128, 128),\n",
    "    nn.Linear(128, dbch.c)\n",
    ")"
   ]
  },
  {
   "cell_type": "code",
   "execution_count": 22,
   "metadata": {},
   "outputs": [],
   "source": [
    "learn = Learner(dbch, arch, metrics=[accuracy, lambda preds, targs: top_k_accuracy(preds, targs, 3)],\n",
    "                opt_func=partial(Adam, wd=0.01, eps=1e-3)\n",
    "                )"
   ]
  },
  {
   "cell_type": "code",
   "execution_count": 23,
   "metadata": {},
   "outputs": [
    {
     "data": {
      "text/html": [],
      "text/plain": [
       "<IPython.core.display.HTML object>"
      ]
     },
     "metadata": {},
     "output_type": "display_data"
    },
    {
     "data": {
      "image/png": "[encoded data removed]",
      "text/plain": [
       "<Figure size 432x288 with 1 Axes>"
      ]
     },
     "metadata": {
      "needs_background": "light"
     },
     "output_type": "display_data"
    }
   ],
   "source": [
    "learn.lr_find()"
   ]
  },
  {
   "cell_type": "code",
   "execution_count": 24,
   "metadata": {},
   "outputs": [
    {
     "data": {
      "text/html": [
       "<table border=\"1\" class=\"dataframe\">\n",
       "  <thead>\n",
       "    <tr style=\"text-align: left;\">\n",
       "      <th>epoch</th>\n",
       "      <th>train_loss</th>\n",
       "      <th>valid_loss</th>\n",
       "      <th>accuracy</th>\n",
       "      <th><lambda></th>\n",
       "      <th>time</th>\n",
       "    </tr>\n",
       "  </thead>\n",
       "  <tbody>\n",
       "    <tr>\n",
       "      <td>0</td>\n",
       "      <td>3.132170</td>\n",
       "      <td>3.500645</td>\n",
       "      <td>0.128828</td>\n",
       "      <td>0.296726</td>\n",
       "      <td>00:09</td>\n",
       "    </tr>\n",
       "    <tr>\n",
       "      <td>1</td>\n",
       "      <td>2.700035</td>\n",
       "      <td>3.244796</td>\n",
       "      <td>0.190074</td>\n",
       "      <td>0.398099</td>\n",
       "      <td>00:08</td>\n",
       "    </tr>\n",
       "    <tr>\n",
       "      <td>2</td>\n",
       "      <td>2.440974</td>\n",
       "      <td>3.417784</td>\n",
       "      <td>0.256600</td>\n",
       "      <td>0.486272</td>\n",
       "      <td>00:08</td>\n",
       "    </tr>\n",
       "    <tr>\n",
       "      <td>3</td>\n",
       "      <td>2.234478</td>\n",
       "      <td>4.147653</td>\n",
       "      <td>0.242872</td>\n",
       "      <td>0.437170</td>\n",
       "      <td>00:08</td>\n",
       "    </tr>\n",
       "    <tr>\n",
       "      <td>4</td>\n",
       "      <td>2.088425</td>\n",
       "      <td>2.628986</td>\n",
       "      <td>0.313622</td>\n",
       "      <td>0.541711</td>\n",
       "      <td>00:08</td>\n",
       "    </tr>\n",
       "    <tr>\n",
       "      <td>5</td>\n",
       "      <td>1.913654</td>\n",
       "      <td>2.481786</td>\n",
       "      <td>0.328933</td>\n",
       "      <td>0.573390</td>\n",
       "      <td>00:08</td>\n",
       "    </tr>\n",
       "    <tr>\n",
       "      <td>6</td>\n",
       "      <td>1.737189</td>\n",
       "      <td>2.029810</td>\n",
       "      <td>0.437170</td>\n",
       "      <td>0.668427</td>\n",
       "      <td>00:08</td>\n",
       "    </tr>\n",
       "    <tr>\n",
       "      <td>7</td>\n",
       "      <td>1.573490</td>\n",
       "      <td>1.829506</td>\n",
       "      <td>0.484161</td>\n",
       "      <td>0.719113</td>\n",
       "      <td>00:08</td>\n",
       "    </tr>\n",
       "    <tr>\n",
       "      <td>8</td>\n",
       "      <td>1.445058</td>\n",
       "      <td>1.766687</td>\n",
       "      <td>0.519007</td>\n",
       "      <td>0.725449</td>\n",
       "      <td>00:08</td>\n",
       "    </tr>\n",
       "    <tr>\n",
       "      <td>9</td>\n",
       "      <td>1.356677</td>\n",
       "      <td>1.740500</td>\n",
       "      <td>0.521647</td>\n",
       "      <td>0.729145</td>\n",
       "      <td>00:08</td>\n",
       "    </tr>\n",
       "  </tbody>\n",
       "</table>"
      ],
      "text/plain": [
       "<IPython.core.display.HTML object>"
      ]
     },
     "metadata": {},
     "output_type": "display_data"
    }
   ],
   "source": [
    "learn.fit_one_cycle(10, 5e-3)"
   ]
  },
  {
   "cell_type": "code",
   "execution_count": 25,
   "metadata": {},
   "outputs": [
    {
     "data": {
      "image/png": "[encoded data removed]",
      "text/plain": [
       "<Figure size 432x288 with 1 Axes>"
      ]
     },
     "metadata": {
      "needs_background": "light"
     },
     "output_type": "display_data"
    }
   ],
   "source": [
    "learn.recorder.plot_loss()"
   ]
  },
  {
   "cell_type": "code",
   "execution_count": 26,
   "metadata": {},
   "outputs": [],
   "source": [
    "learn.save('basic_1')"
   ]
  },
  {
   "cell_type": "markdown",
   "metadata": {},
   "source": [
    "Let's grab the predictions on the test set"
   ]
  },
  {
   "cell_type": "code",
   "execution_count": 27,
   "metadata": {},
   "outputs": [
    {
     "data": {
      "text/html": [],
      "text/plain": [
       "<IPython.core.display.HTML object>"
      ]
     },
     "metadata": {},
     "output_type": "display_data"
    }
   ],
   "source": [
    "test_dl = test_dl(dbch, tst_paths)\n",
    "preds_1 = learn.get_preds(dl=test_dl)[0]"
   ]
  },
  {
   "cell_type": "markdown",
   "metadata": {},
   "source": [
    "Top 3 accuracy of 0.76 is not looking bad at all. Let's quickly hack together a model using dilated convolutions, without max pooling, and see how we fare."
   ]
  },
  {
   "cell_type": "code",
   "execution_count": 28,
   "metadata": {},
   "outputs": [],
   "source": [
    "def conv_block(in_channels, out_channels, kernel_size, stride=1, dilation=1, extra_blocks=1):\n",
    "    extra_blocks = []\n",
    "    for _ in extra_blocks:\n",
    "        extra_blocks += [\n",
    "            nn.Conv1d(out_channels, out_channels, kernel_size, stride=stride, dilation=dilation),\n",
    "            nn.ReLU(),\n",
    "            nn.BatchNorm1d(out_channels)\n",
    "        ]\n",
    "    return nn.Sequential(\n",
    "        nn.Conv1d(in_channels, out_channels, kernel_size, stride=stride, dilation=dilation),\n",
    "        nn.ReLU(),\n",
    "        nn.BatchNorm1d(out_channels),\n",
    "        *extra_blocks\n",
    "    )"
   ]
  },
  {
   "cell_type": "code",
   "execution_count": 29,
   "metadata": {},
   "outputs": [],
   "source": [
    "arch = nn.Sequential(\n",
    "    conv_block(1, 8, 16),\n",
    "    conv_block(8, 16, 16, dilation=16),\n",
    "    conv_block(16, 32, 9, stride=16),\n",
    "    conv_block(32, 64, 16),\n",
    "    conv_block(64, 128, 16, dilation=16),\n",
    "    conv_block(128, 128, 9, stride=16),\n",
    "    nn.AdaptiveAvgPool1d(1),\n",
    "    Flatten(),\n",
    "    nn.Linear(128, 128),\n",
    "    nn.ReLU(),\n",
    "    nn.BatchNorm1d(128),\n",
    "    nn.Linear(128, dbch.c)\n",
    ")"
   ]
  },
  {
   "cell_type": "code",
   "execution_count": 30,
   "metadata": {},
   "outputs": [],
   "source": [
    "learn = Learner(dbch, arch, metrics=[accuracy, lambda preds, targs: top_k_accuracy(preds, targs, 3)],\n",
    "                opt_func=partial(Adam, wd=0.01, eps=1e-3)\n",
    "                )"
   ]
  },
  {
   "cell_type": "code",
   "execution_count": 31,
   "metadata": {},
   "outputs": [
    {
     "data": {
      "text/html": [],
      "text/plain": [
       "<IPython.core.display.HTML object>"
      ]
     },
     "metadata": {},
     "output_type": "display_data"
    },
    {
     "data": {
      "image/png": "[encoded data removed]",
      "text/plain": [
       "<Figure size 432x288 with 1 Axes>"
      ]
     },
     "metadata": {
      "needs_background": "light"
     },
     "output_type": "display_data"
    }
   ],
   "source": [
    "learn.lr_find()"
   ]
  },
  {
   "cell_type": "code",
   "execution_count": 32,
   "metadata": {},
   "outputs": [
    {
     "data": {
      "text/html": [
       "<table border=\"1\" class=\"dataframe\">\n",
       "  <thead>\n",
       "    <tr style=\"text-align: left;\">\n",
       "      <th>epoch</th>\n",
       "      <th>train_loss</th>\n",
       "      <th>valid_loss</th>\n",
       "      <th>accuracy</th>\n",
       "      <th><lambda></th>\n",
       "      <th>time</th>\n",
       "    </tr>\n",
       "  </thead>\n",
       "  <tbody>\n",
       "    <tr>\n",
       "      <td>0</td>\n",
       "      <td>3.326890</td>\n",
       "      <td>3.341169</td>\n",
       "      <td>0.140971</td>\n",
       "      <td>0.266631</td>\n",
       "      <td>00:13</td>\n",
       "    </tr>\n",
       "    <tr>\n",
       "      <td>1</td>\n",
       "      <td>2.959444</td>\n",
       "      <td>3.185332</td>\n",
       "      <td>0.212249</td>\n",
       "      <td>0.398627</td>\n",
       "      <td>00:11</td>\n",
       "    </tr>\n",
       "    <tr>\n",
       "      <td>2</td>\n",
       "      <td>2.654326</td>\n",
       "      <td>2.602371</td>\n",
       "      <td>0.301478</td>\n",
       "      <td>0.537487</td>\n",
       "      <td>00:11</td>\n",
       "    </tr>\n",
       "    <tr>\n",
       "      <td>3</td>\n",
       "      <td>2.389705</td>\n",
       "      <td>4.297579</td>\n",
       "      <td>0.227033</td>\n",
       "      <td>0.395987</td>\n",
       "      <td>00:11</td>\n",
       "    </tr>\n",
       "    <tr>\n",
       "      <td>4</td>\n",
       "      <td>2.181204</td>\n",
       "      <td>2.241556</td>\n",
       "      <td>0.389652</td>\n",
       "      <td>0.604541</td>\n",
       "      <td>00:11</td>\n",
       "    </tr>\n",
       "    <tr>\n",
       "      <td>5</td>\n",
       "      <td>2.021274</td>\n",
       "      <td>2.137793</td>\n",
       "      <td>0.407603</td>\n",
       "      <td>0.627772</td>\n",
       "      <td>00:11</td>\n",
       "    </tr>\n",
       "    <tr>\n",
       "      <td>6</td>\n",
       "      <td>1.845770</td>\n",
       "      <td>2.505543</td>\n",
       "      <td>0.337381</td>\n",
       "      <td>0.557550</td>\n",
       "      <td>00:11</td>\n",
       "    </tr>\n",
       "    <tr>\n",
       "      <td>7</td>\n",
       "      <td>1.674489</td>\n",
       "      <td>1.803225</td>\n",
       "      <td>0.505280</td>\n",
       "      <td>0.705913</td>\n",
       "      <td>00:11</td>\n",
       "    </tr>\n",
       "    <tr>\n",
       "      <td>8</td>\n",
       "      <td>1.545435</td>\n",
       "      <td>1.747851</td>\n",
       "      <td>0.523759</td>\n",
       "      <td>0.718585</td>\n",
       "      <td>00:12</td>\n",
       "    </tr>\n",
       "    <tr>\n",
       "      <td>9</td>\n",
       "      <td>1.456423</td>\n",
       "      <td>1.714429</td>\n",
       "      <td>0.536431</td>\n",
       "      <td>0.731785</td>\n",
       "      <td>00:11</td>\n",
       "    </tr>\n",
       "  </tbody>\n",
       "</table>"
      ],
      "text/plain": [
       "<IPython.core.display.HTML object>"
      ]
     },
     "metadata": {},
     "output_type": "display_data"
    }
   ],
   "source": [
    "learn.fit_one_cycle(10, 3e-3)"
   ]
  },
  {
   "cell_type": "code",
   "execution_count": 33,
   "metadata": {},
   "outputs": [
    {
     "data": {
      "image/png": "[encoded data removed]",
      "text/plain": [
       "<Figure size 432x288 with 1 Axes>"
      ]
     },
     "metadata": {
      "needs_background": "light"
     },
     "output_type": "display_data"
    }
   ],
   "source": [
    "learn.recorder.plot_loss()"
   ]
  },
  {
   "cell_type": "code",
   "execution_count": 34,
   "metadata": {},
   "outputs": [],
   "source": [
    "learn.save('basic_2')"
   ]
  },
  {
   "cell_type": "code",
   "execution_count": 35,
   "metadata": {},
   "outputs": [
    {
     "data": {
      "text/html": [],
      "text/plain": [
       "<IPython.core.display.HTML object>"
      ]
     },
     "metadata": {},
     "output_type": "display_data"
    }
   ],
   "source": [
    "preds_2 = learn.get_preds(dl=test_dl)[0]"
   ]
  },
  {
   "cell_type": "code",
   "execution_count": 36,
   "metadata": {},
   "outputs": [],
   "source": [
    "preds = 0.5 * preds_1 + 0.5 * preds_2"
   ]
  },
  {
   "cell_type": "code",
   "execution_count": 37,
   "metadata": {},
   "outputs": [],
   "source": [
    "predicted_label_idxs = preds.argsort(descending=True)[:, :3]"
   ]
  },
  {
   "cell_type": "code",
   "execution_count": 38,
   "metadata": {},
   "outputs": [],
   "source": [
    "fns, predicted_labels = [], []\n",
    "\n",
    "for path, idxs in zip(tst_paths, predicted_label_idxs):\n",
    "    fns.append(path.name)\n",
    "    predicted_labels.append([dbch.vocab[idx] for idx in idxs])"
   ]
  },
  {
   "cell_type": "markdown",
   "metadata": {},
   "source": [
    "Adding entries for the corrupted files"
   ]
  },
  {
   "cell_type": "code",
   "execution_count": 39,
   "metadata": {},
   "outputs": [
    {
     "data": {
      "text/plain": [
       "9400"
      ]
     },
     "execution_count": 39,
     "metadata": {},
     "output_type": "execute_result"
    }
   ],
   "source": [
    "len(fns)"
   ]
  },
  {
   "cell_type": "code",
   "execution_count": 40,
   "metadata": {},
   "outputs": [],
   "source": [
    "sub = pd.DataFrame({'fname': fns, 'label': predicted_labels})\n",
    "sub.label = sub.label.apply(lambda lst: ' '.join(lst))"
   ]
  },
  {
   "cell_type": "code",
   "execution_count": 41,
   "metadata": {},
   "outputs": [
    {
     "data": {
      "text/html": [
       "<div>\n",
       "<style scoped>\n",
       "    .dataframe tbody tr th:only-of-type {\n",
       "        vertical-align: middle;\n",
       "    }\n",
       "\n",
       "    .dataframe tbody tr th {\n",
       "        vertical-align: top;\n",
       "    }\n",
       "\n",
       "    .dataframe thead th {\n",
       "        text-align: right;\n",
       "    }\n",
       "</style>\n",
       "<table border=\"1\" class=\"dataframe\">\n",
       "  <thead>\n",
       "    <tr style=\"text-align: right;\">\n",
       "      <th></th>\n",
       "      <th>fname</th>\n",
       "      <th>label</th>\n",
       "    </tr>\n",
       "  </thead>\n",
       "  <tbody>\n",
       "    <tr>\n",
       "      <td>0</td>\n",
       "      <td>d2217d56.wav</td>\n",
       "      <td>Bass_drum Knock Finger_snapping</td>\n",
       "    </tr>\n",
       "    <tr>\n",
       "      <td>1</td>\n",
       "      <td>614a7c76.wav</td>\n",
       "      <td>Flute Clarinet Cello</td>\n",
       "    </tr>\n",
       "    <tr>\n",
       "      <td>2</td>\n",
       "      <td>02198549.wav</td>\n",
       "      <td>Scissors Keys_jangling Computer_keyboard</td>\n",
       "    </tr>\n",
       "    <tr>\n",
       "      <td>3</td>\n",
       "      <td>e6eb9ec4.wav</td>\n",
       "      <td>Saxophone Flute Clarinet</td>\n",
       "    </tr>\n",
       "    <tr>\n",
       "      <td>4</td>\n",
       "      <td>0da592f2.wav</td>\n",
       "      <td>Clarinet Flute Saxophone</td>\n",
       "    </tr>\n",
       "  </tbody>\n",
       "</table>\n",
       "</div>"
      ],
      "text/plain": [
       "          fname                                     label\n",
       "0  d2217d56.wav           Bass_drum Knock Finger_snapping\n",
       "1  614a7c76.wav                      Flute Clarinet Cello\n",
       "2  02198549.wav  Scissors Keys_jangling Computer_keyboard\n",
       "3  e6eb9ec4.wav                  Saxophone Flute Clarinet\n",
       "4  0da592f2.wav                  Clarinet Flute Saxophone"
      ]
     },
     "execution_count": 41,
     "metadata": {},
     "output_type": "execute_result"
    }
   ],
   "source": [
    "sub.head()"
   ]
  },
  {
   "cell_type": "code",
   "execution_count": 42,
   "metadata": {},
   "outputs": [],
   "source": [
    "mkdir -p data/submissions"
   ]
  },
  {
   "cell_type": "code",
   "execution_count": 43,
   "metadata": {},
   "outputs": [],
   "source": [
    "sub_name = 'basic_models_averaged_predictions'\n",
    "sub.to_csv(f'data/submissions/{sub_name}.csv.zip', compression='zip', index=False)"
   ]
  },
  {
   "cell_type": "code",
   "execution_count": 44,
   "metadata": {},
   "outputs": [
    {
     "name": "stdout",
     "output_type": "stream",
     "text": [
      "100%|██████████████████████████████████████| 89.2k/89.2k [00:03<00:00, 24.8kB/s]\n",
      "Successfully submitted to Freesound General-Purpose Audio Tagging Challenge"
     ]
    }
   ],
   "source": [
    "!kaggle competitions submit -c freesound-audio-tagging -f data/submissions/{sub_name}.csv.zip -m {sub_name}"
   ]
  }
 ],
 "metadata": {
  "kernelspec": {
   "display_name": "Python 3",
   "language": "python",
   "name": "python3"
  },
  "language_info": {
   "codemirror_mode": {
    "name": "ipython",
    "version": 3
   },
   "file_extension": ".py",
   "mimetype": "text/x-python",
   "name": "python",
   "nbconvert_exporter": "python",
   "pygments_lexer": "ipython3",
   "version": "3.7.3"
  }
 },
 "nbformat": 4,
 "nbformat_minor": 2
}
