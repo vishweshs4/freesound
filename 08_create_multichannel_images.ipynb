{
 "cells": [
  {
   "cell_type": "code",
   "execution_count": 1,
   "metadata": {},
   "outputs": [],
   "source": [
    "from pathlib import Path\n",
    "import numpy as np\n",
    "import matplotlib.pyplot as plt\n",
    "from fastai2.basics import *\n",
    "from PIL import Image"
   ]
  },
  {
   "cell_type": "code",
   "execution_count": 2,
   "metadata": {},
   "outputs": [],
   "source": [
    "def save_3channel_im(channels, save_to):\n",
    "    cs = [np.asarray(Image.open(channel).convert('LA'))[:, :, 0] for channel in channels]\n",
    "    Image.fromarray(np.stack(cs).transpose(1,2,0)).save(f'data/{save_to}/{channels[0].name}')"
   ]
  },
  {
   "cell_type": "code",
   "execution_count": 3,
   "metadata": {},
   "outputs": [],
   "source": [
    "!rm -rf data/{'img_train_3channel_linear_mel_log'}\n",
    "!mkdir data/{'img_train_3channel_linear_mel_log'}\n",
    "def save_3channel_im_train(channels): save_3channel_im(channels, 'img_train_3channel_linear_mel_log')\n",
    "\n",
    "!rm -rf data/{'img_test_3channel_linear_mel_log'}\n",
    "!mkdir -p data/{'img_test_3channel_linear_mel_log'}\n",
    "def save_3channel_im_test(channels): save_3channel_im(channels, 'img_test_3channel_linear_mel_log')   \n",
    "    \n",
    "trn_paths_1 = list(Path('data/img_train_22k_2sec_better_centered_log_db/').iterdir())\n",
    "trn_paths_2 = list(Path('data/img_train_22k_2sec_better_centered_mel_db/').iterdir())\n",
    "trn_paths_3 = list(Path('data/img_train_22k_2sec_better_centered_linear_db/').iterdir())\n",
    "\n",
    "trn_paths = list(zip(trn_paths_1, trn_paths_2, trn_paths_3))\n",
    "\n",
    "tst_paths_1 = list(Path('data/img_test_22k_2sec_better_centered_log_db/').iterdir())\n",
    "tst_paths_2 = list(Path('data/img_test_22k_2sec_better_centered_mel_db/').iterdir())\n",
    "tst_paths_3 = list(Path('data/img_test_22k_2sec_better_centered_linear_db/').iterdir())\n",
    "\n",
    "tst_paths = list(zip(tst_paths_1, tst_paths_2, tst_paths_3))"
   ]
  },
  {
   "cell_type": "code",
   "execution_count": 4,
   "metadata": {},
   "outputs": [
    {
     "data": {
      "text/html": [],
      "text/plain": [
       "<IPython.core.display.HTML object>"
      ]
     },
     "metadata": {},
     "output_type": "display_data"
    },
    {
     "data": {
      "text/plain": [
       "(#9473) [None,None,None,None,None,None,None,None,None,None...]"
      ]
     },
     "execution_count": 4,
     "metadata": {},
     "output_type": "execute_result"
    }
   ],
   "source": [
    "parallel(save_3channel_im_train, trn_paths)"
   ]
  },
  {
   "cell_type": "code",
   "execution_count": 5,
   "metadata": {},
   "outputs": [
    {
     "data": {
      "text/html": [],
      "text/plain": [
       "<IPython.core.display.HTML object>"
      ]
     },
     "metadata": {},
     "output_type": "display_data"
    },
    {
     "data": {
      "text/plain": [
       "(#9400) [None,None,None,None,None,None,None,None,None,None...]"
      ]
     },
     "execution_count": 5,
     "metadata": {},
     "output_type": "execute_result"
    }
   ],
   "source": [
    "parallel(save_3channel_im_test, tst_paths)"
   ]
  },
  {
   "cell_type": "code",
   "execution_count": 7,
   "metadata": {},
   "outputs": [],
   "source": [
    "!rm -rf data/{'img_train_3channel_1_4_8'}\n",
    "!mkdir data/{'img_train_3channel_1_4_8'}\n",
    "def save_3channel_im_train(channels): save_3channel_im(channels, 'img_train_3channel_1_4_8')\n",
    "\n",
    "!rm -rf data/{'img_test_3channel_1_4_8'}\n",
    "!mkdir -p data/{'img_test_3channel_1_4_8'}\n",
    "def save_3channel_im_test(channels): save_3channel_im(channels, 'img_test_3channel_1_4_8')   \n",
    "    \n",
    "trn_paths_1 = list(Path('data/img_train_hires_22k_2sec_better_centered_1/').iterdir())\n",
    "trn_paths_2 = list(Path('data/img_train_hires_22k_2sec_better_centered_4/').iterdir())\n",
    "trn_paths_3 = list(Path('data/img_train_hires_22k_2sec_better_centered_8/').iterdir())\n",
    "\n",
    "trn_paths = list(zip(trn_paths_1, trn_paths_2, trn_paths_3))\n",
    "\n",
    "tst_paths_1 = list(Path('data/img_test_hires_22k_2sec_better_centered_1/').iterdir())\n",
    "tst_paths_2 = list(Path('data/img_test_hires_22k_2sec_better_centered_2/').iterdir())\n",
    "tst_paths_3 = list(Path('data/img_test_hires_22k_2sec_better_centered_8/').iterdir())\n",
    "\n",
    "tst_paths = list(zip(tst_paths_1, tst_paths_2, tst_paths_3))"
   ]
  },
  {
   "cell_type": "code",
   "execution_count": 8,
   "metadata": {},
   "outputs": [
    {
     "data": {
      "text/html": [],
      "text/plain": [
       "<IPython.core.display.HTML object>"
      ]
     },
     "metadata": {},
     "output_type": "display_data"
    },
    {
     "data": {
      "text/plain": [
       "(#9473) [None,None,None,None,None,None,None,None,None,None...]"
      ]
     },
     "execution_count": 8,
     "metadata": {},
     "output_type": "execute_result"
    }
   ],
   "source": [
    "parallel(save_3channel_im_train, trn_paths)"
   ]
  },
  {
   "cell_type": "code",
   "execution_count": 9,
   "metadata": {},
   "outputs": [
    {
     "data": {
      "text/html": [],
      "text/plain": [
       "<IPython.core.display.HTML object>"
      ]
     },
     "metadata": {},
     "output_type": "display_data"
    },
    {
     "data": {
      "text/plain": [
       "(#9400) [None,None,None,None,None,None,None,None,None,None...]"
      ]
     },
     "execution_count": 9,
     "metadata": {},
     "output_type": "execute_result"
    }
   ],
   "source": [
    "parallel(save_3channel_im_test, tst_paths)"
   ]
  },
  {
   "cell_type": "code",
   "execution_count": 10,
   "metadata": {},
   "outputs": [],
   "source": [
    "!rm -rf data/{'img_train_3channel_mix'}\n",
    "!mkdir data/{'img_train_3channel_mix'}\n",
    "def save_3channel_im_train(channels): save_3channel_im(channels, 'img_train_3channel_mix')\n",
    "\n",
    "!rm -rf data/{'img_test_3channel_mix'}\n",
    "!mkdir -p data/{'img_test_3channel_mix'}\n",
    "def save_3channel_im_test(channels): save_3channel_im(channels, 'img_test_3channel_mix')   \n",
    "    \n",
    "trn_paths_1 = list(Path('data/img_train_hires_22k_2sec_better_centered_1/').iterdir())\n",
    "trn_paths_2 = list(Path('data/img_train_hires_22k_2sec_better_centered_8/').iterdir())\n",
    "trn_paths_3 = list(Path('data/img_train_22k_2sec_better_centered_log_db/').iterdir())\n",
    "\n",
    "trn_paths = list(zip(trn_paths_1, trn_paths_2, trn_paths_3))\n",
    "\n",
    "tst_paths_1 = list(Path('data/img_test_hires_22k_2sec_better_centered_1/').iterdir())\n",
    "tst_paths_2 = list(Path('data/img_test_hires_22k_2sec_better_centered_8/').iterdir())\n",
    "tst_paths_3 = list(Path('data/img_test_22k_2sec_better_centered_log_db/').iterdir())\n",
    "\n",
    "tst_paths = list(zip(tst_paths_1, tst_paths_2, tst_paths_3))"
   ]
  },
  {
   "cell_type": "code",
   "execution_count": 11,
   "metadata": {},
   "outputs": [
    {
     "data": {
      "text/html": [],
      "text/plain": [
       "<IPython.core.display.HTML object>"
      ]
     },
     "metadata": {},
     "output_type": "display_data"
    },
    {
     "data": {
      "text/plain": [
       "(#9473) [None,None,None,None,None,None,None,None,None,None...]"
      ]
     },
     "execution_count": 11,
     "metadata": {},
     "output_type": "execute_result"
    }
   ],
   "source": [
    "parallel(save_3channel_im_train, trn_paths)"
   ]
  },
  {
   "cell_type": "code",
   "execution_count": 12,
   "metadata": {},
   "outputs": [
    {
     "data": {
      "text/html": [],
      "text/plain": [
       "<IPython.core.display.HTML object>"
      ]
     },
     "metadata": {},
     "output_type": "display_data"
    },
    {
     "data": {
      "text/plain": [
       "(#9400) [None,None,None,None,None,None,None,None,None,None...]"
      ]
     },
     "execution_count": 12,
     "metadata": {},
     "output_type": "execute_result"
    }
   ],
   "source": [
    "parallel(save_3channel_im_test, tst_paths)"
   ]
  }
 ],
 "metadata": {
  "kernelspec": {
   "display_name": "Python 3",
   "language": "python",
   "name": "python3"
  },
  "language_info": {
   "codemirror_mode": {
    "name": "ipython",
    "version": 3
   },
   "file_extension": ".py",
   "mimetype": "text/x-python",
   "name": "python",
   "nbconvert_exporter": "python",
   "pygments_lexer": "ipython3",
   "version": "3.7.5"
  }
 },
 "nbformat": 4,
 "nbformat_minor": 2
}
