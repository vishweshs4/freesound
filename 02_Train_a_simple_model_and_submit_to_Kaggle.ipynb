{
 "cells": [
  {
   "cell_type": "markdown",
   "metadata": {},
   "source": [
    "We will be using `fastai2` which is still under active development. I am using pip editable install as explained in the [fastai2 repository](https://github.com/fastai/fastai2). This gives me a little bit more of control and also allows me to to navigate through the code. \n",
    "\n",
    "Alternatively, you can install `fastai2` directly from github: `pip install git+https://github.com/fastai/fastai2`\n",
    "\n",
    "When working on this notebook, I was at the following version (hash in git commits) of the library: `85932dec2c0b863f597ded9345c8b93c53efd90d`"
   ]
  },
  {
   "cell_type": "code",
   "execution_count": 1,
   "metadata": {},
   "outputs": [],
   "source": [
    "from fastai2.basics import *\n",
    "from fastai2.callback.all import *\n",
    "from fastai2.vision.all import *\n",
    "\n",
    "from pathlib import Path\n",
    "import pandas as pd\n",
    "import numpy as np\n",
    "import librosa"
   ]
  },
  {
   "cell_type": "markdown",
   "metadata": {},
   "source": [
    "The first order of business will be to read in our data."
   ]
  },
  {
   "cell_type": "code",
   "execution_count": 2,
   "metadata": {},
   "outputs": [],
   "source": [
    "trn_df = pd.read_csv('data/train.csv')\n",
    "trn_paths = list(Path('data/audio_train/').iterdir())"
   ]
  },
  {
   "cell_type": "code",
   "execution_count": 3,
   "metadata": {},
   "outputs": [
    {
     "data": {
      "text/plain": [
       "[PosixPath('data/audio_train/5fca79da.wav'),\n",
       " PosixPath('data/audio_train/5f3f655e.wav'),\n",
       " PosixPath('data/audio_train/8c0e42bb.wav'),\n",
       " PosixPath('data/audio_train/a9bd898d.wav')]"
      ]
     },
     "execution_count": 3,
     "metadata": {},
     "output_type": "execute_result"
    }
   ],
   "source": [
    "trn_paths[:4]"
   ]
  },
  {
   "cell_type": "markdown",
   "metadata": {},
   "source": [
    "Our first model will be a simple CNN on first two seconds of audio downsampled to 16 khz.\n",
    "\n",
    "Let's load the data with the medium-level `DataSource` API. Let's first define how the sounds should be read in and later we will look at constructing the labels.\n",
    "\n",
    "We could resample the audio files on the fly, but that is quite an expensive operation. It's better to incur this cost ones before training and save the results vs having to pay the price during every epoch."
   ]
  },
  {
   "cell_type": "code",
   "execution_count": 4,
   "metadata": {},
   "outputs": [],
   "source": [
    "path = trn_paths[0]"
   ]
  },
  {
   "cell_type": "code",
   "execution_count": 5,
   "metadata": {},
   "outputs": [
    {
     "name": "stdout",
     "output_type": "stream",
     "text": [
      "CPU times: user 800 ms, sys: 11.4 ms, total: 811 ms\n",
      "Wall time: 811 ms\n"
     ]
    },
    {
     "data": {
      "text/plain": [
       "(array([-4.5412817e-06, -4.5701829e-05, -1.4590675e-05, ...,\n",
       "        -1.3681429e-05, -4.5426914e-05, -5.1247978e-05], dtype=float32), 16000)"
      ]
     },
     "execution_count": 5,
     "metadata": {},
     "output_type": "execute_result"
    }
   ],
   "source": [
    "%time librosa.core.load(path, sr=16000)"
   ]
  },
  {
   "cell_type": "code",
   "execution_count": 6,
   "metadata": {},
   "outputs": [
    {
     "name": "stdout",
     "output_type": "stream",
     "text": [
      "CPU times: user 0 ns, sys: 2.46 ms, total: 2.46 ms\n",
      "Wall time: 1.75 ms\n"
     ]
    },
    {
     "data": {
      "text/plain": [
       "(array([ 0.0000000e+00, -3.0517578e-05, -3.0517578e-05, ...,\n",
       "        -3.0517578e-05, -6.1035156e-05, -3.0517578e-05], dtype=float32), 44100)"
      ]
     },
     "execution_count": 6,
     "metadata": {},
     "output_type": "execute_result"
    }
   ],
   "source": [
    "%time librosa.core.load(path, sr=None)"
   ]
  },
  {
   "cell_type": "markdown",
   "metadata": {},
   "source": [
    "Reading a file without resampling is much, much quicker.\n",
    "\n",
    "Let's resample the files beforehand and save them to disk."
   ]
  },
  {
   "cell_type": "code",
   "execution_count": 7,
   "metadata": {},
   "outputs": [],
   "source": [
    "!rm -rf data/audio_train_22k\n",
    "!rm -rf data/audio_test_22k"
   ]
  },
  {
   "cell_type": "code",
   "execution_count": 8,
   "metadata": {},
   "outputs": [],
   "source": [
    "!mkdir data/audio_train_22k\n",
    "!mkdir data/audio_test_22k"
   ]
  },
  {
   "cell_type": "markdown",
   "metadata": {},
   "source": [
    "In the multiple runs I carried out, setting `norm=True` performed better for preprocessing of the data. \n",
    "\n",
    "I do not know how it works. I am also not sure if this is not something specific to the simple model that we are using below or whether it makes the data in general easier to train on. Given my doubts and as I don't want to accidentally remove useful information, I will set `norm=False`.\n",
    "\n",
    "Initially, I resampled the data to 16 khz. But since we are not only focusing on human speech, might be this is removing information that might be useful. Due to [the nyquist frequency] being 8khz with 16 khz sampling rate, that would leave anything above 8khz out. Going with 22050 sounds like a safer bet (and is the frequency many people recommend on the forums)."
   ]
  },
  {
   "cell_type": "code",
   "execution_count": 9,
   "metadata": {},
   "outputs": [],
   "source": [
    "def resample(path, target_sr, output_dir):\n",
    "    x, sr = librosa.core.load(path, sr=target_sr)\n",
    "    librosa.output.write_wav(f'{output_dir}/{path.name}', x, sr, norm=False)\n",
    "    \n",
    "def resample_train(path): resample(path, 22050, 'data/audio_train_22k/')\n",
    "def resample_test(path): resample(path, 22050, 'data/audio_test_22k/')"
   ]
  },
  {
   "cell_type": "code",
   "execution_count": 10,
   "metadata": {},
   "outputs": [
    {
     "data": {
      "text/html": [],
      "text/plain": [
       "<IPython.core.display.HTML object>"
      ]
     },
     "metadata": {},
     "output_type": "display_data"
    },
    {
     "name": "stdout",
     "output_type": "stream",
     "text": [
      "CPU times: user 4.92 s, sys: 612 ms, total: 5.54 s\n",
      "Wall time: 3min 27s\n"
     ]
    },
    {
     "data": {
      "text/plain": [
       "(#9473) [None,None,None,None,None,None,None,None,None,None...]"
      ]
     },
     "execution_count": 10,
     "metadata": {},
     "output_type": "execute_result"
    }
   ],
   "source": [
    "%time parallel(resample_train, trn_paths)"
   ]
  },
  {
   "cell_type": "markdown",
   "metadata": {},
   "source": [
    "There are 3 files in the test set that are corrupt - let's remove them before proceeding."
   ]
  },
  {
   "cell_type": "code",
   "execution_count": 11,
   "metadata": {},
   "outputs": [],
   "source": [
    "tst_paths = list(Path('data/audio_test/').iterdir())"
   ]
  },
  {
   "cell_type": "code",
   "execution_count": 12,
   "metadata": {},
   "outputs": [
    {
     "data": {
      "text/html": [],
      "text/plain": [
       "<IPython.core.display.HTML object>"
      ]
     },
     "metadata": {},
     "output_type": "display_data"
    },
    {
     "name": "stdout",
     "output_type": "stream",
     "text": [
      "CPU times: user 4.91 s, sys: 673 ms, total: 5.58 s\n",
      "Wall time: 3min\n"
     ]
    },
    {
     "data": {
      "text/plain": [
       "(#9400) [None,None,None,None,None,None,None,None,None,None...]"
      ]
     },
     "execution_count": 12,
     "metadata": {},
     "output_type": "execute_result"
    }
   ],
   "source": [
    "%time parallel(resample_test, tst_paths)"
   ]
  },
  {
   "cell_type": "markdown",
   "metadata": {},
   "source": [
    "### Loading the data with DataSource"
   ]
  },
  {
   "cell_type": "markdown",
   "metadata": {},
   "source": [
    "Let's calculate the mean and starndard deviation of our train set so that we can normalize the data."
   ]
  },
  {
   "cell_type": "code",
   "execution_count": 13,
   "metadata": {},
   "outputs": [],
   "source": [
    "def open_audio_file(path):\n",
    "    x, sr = librosa.core.load(path, sr=None)\n",
    "    # grabbing first 2 seconds of audio and padding with 0s if too short\n",
    "    return np.pad(x, (0, 22050*2), 'constant')[:22050*2].reshape(1, -1)"
   ]
  },
  {
   "cell_type": "code",
   "execution_count": 14,
   "metadata": {},
   "outputs": [],
   "source": [
    "trn_paths = list(Path('data/audio_train_22k/').iterdir())\n",
    "tst_paths = list(Path('data/audio_test_22k/').iterdir())"
   ]
  },
  {
   "cell_type": "code",
   "execution_count": 15,
   "metadata": {},
   "outputs": [],
   "source": [
    "means = []\n",
    "std_devs = []\n",
    "for path in trn_paths:\n",
    "    audio = open_audio_file(path)\n",
    "    means.append(audio.mean())\n",
    "    std_devs.append(audio.std())"
   ]
  },
  {
   "cell_type": "code",
   "execution_count": 16,
   "metadata": {},
   "outputs": [
    {
     "data": {
      "text/plain": [
       "(5.1284875e-05, 0.07702511)"
      ]
     },
     "execution_count": 16,
     "metadata": {},
     "output_type": "execute_result"
    }
   ],
   "source": [
    "np.mean(means), np.mean(std_devs)"
   ]
  },
  {
   "cell_type": "markdown",
   "metadata": {},
   "source": [
    "The mean is very close to 0, so we don't need to worry about it. The standard deviation is 0.08, which is probably not what we want. Let's try bringing it closer to 1.\n",
    "\n",
    "One thing we could do is we could divide the array by 0.08 directly before returning it from `open_audio_file`.\n",
    "\n",
    "This would be the easiest approach and it would work. But as the purpose of this notebook is to explore the functionatliy of `fastai v2`, let's take a look at two other ways we could go about this.\n",
    "\n",
    "First of all, we could register our version of `encodes` with the `TypeDispatch` mechanism of `ToTensor`, one to be used with `np.ndarray`. In the `encodes` method we could do the normalization like so: "
   ]
  },
  {
   "cell_type": "code",
   "execution_count": 17,
   "metadata": {},
   "outputs": [],
   "source": [
    "mean_std = 0.077"
   ]
  },
  {
   "cell_type": "code",
   "execution_count": 18,
   "metadata": {},
   "outputs": [],
   "source": [
    "@ToTensor\n",
    "def encodes(self, o:np.ndarray): return TensorBase(o) / mean_std\n",
    "\n",
    "item_audio_tfms = [ToTensor()]"
   ]
  },
  {
   "cell_type": "markdown",
   "metadata": {},
   "source": [
    "This would work. But there is also another way of going about this that can give us even further insights into how `fastai v2` works."
   ]
  },
  {
   "cell_type": "code",
   "execution_count": 19,
   "metadata": {},
   "outputs": [],
   "source": [
    "class TensorAudio(TensorBase): pass"
   ]
  },
  {
   "cell_type": "code",
   "execution_count": 20,
   "metadata": {},
   "outputs": [],
   "source": [
    "ary = open_audio_file(trn_paths[1]) # reading in one of the files for demonstration purposes"
   ]
  },
  {
   "cell_type": "code",
   "execution_count": 21,
   "metadata": {},
   "outputs": [],
   "source": [
    "# again, we define our version of `encodes`\n",
    "# this time to return our custom Type\n",
    "\n",
    "@ToTensor\n",
    "def encodes(self, o:np.ndarray): return TensorAudio(o) "
   ]
  },
  {
   "cell_type": "code",
   "execution_count": 22,
   "metadata": {},
   "outputs": [
    {
     "data": {
      "text/plain": [
       "__main__.TensorAudio"
      ]
     },
     "execution_count": 22,
     "metadata": {},
     "output_type": "execute_result"
    }
   ],
   "source": [
    "type(ToTensor()(ary))"
   ]
  },
  {
   "cell_type": "markdown",
   "metadata": {},
   "source": [
    "It worked! We can now register our type with the dispatch mechanism of `Normalize`!"
   ]
  },
  {
   "cell_type": "code",
   "execution_count": 23,
   "metadata": {},
   "outputs": [],
   "source": [
    "@Normalize\n",
    "def encodes(self, o:TensorAudio): return o / self.std"
   ]
  },
  {
   "cell_type": "code",
   "execution_count": 24,
   "metadata": {},
   "outputs": [
    {
     "data": {
      "text/plain": [
       "tensor([[0.1239, 0.1608, 0.3262,  ..., 0.0000, 0.0000, 0.0000]])"
      ]
     },
     "execution_count": 24,
     "metadata": {},
     "output_type": "execute_result"
    }
   ],
   "source": [
    "ToTensor()(ary)"
   ]
  },
  {
   "cell_type": "code",
   "execution_count": 25,
   "metadata": {},
   "outputs": [
    {
     "data": {
      "text/plain": [
       "tensor([[1.6093, 2.0883, 4.2360,  ..., 0.0000, 0.0000, 0.0000]])"
      ]
     },
     "execution_count": 25,
     "metadata": {},
     "output_type": "execute_result"
    }
   ],
   "source": [
    "Normalize(std=mean_std)(ToTensor()(ary))"
   ]
  },
  {
   "cell_type": "markdown",
   "metadata": {},
   "source": [
    "This functionality might be slightly intimidating at first, but do not worry! It is intended for intermediate users and might take a little while to get used to, even though the abstraction is very clear and easy to understand once you spend some time experimenting with it.\n",
    "\n",
    "Give it a bit of time and you'll find that you will be breezing through the `DataSource` API sooner than you expect!"
   ]
  },
  {
   "cell_type": "code",
   "execution_count": 26,
   "metadata": {},
   "outputs": [],
   "source": [
    "trn_df_idx = trn_df.set_index('fname') \n",
    "\n",
    "# defining a way how to go from a path to a class label\n",
    "def item_to_label(path): return trn_df_idx.loc[path.name].label"
   ]
  },
  {
   "cell_type": "code",
   "execution_count": 27,
   "metadata": {},
   "outputs": [],
   "source": [
    "# transforms that will be called initially on `path` to read in the audio file and the category label\n",
    "tfms = [[open_audio_file], [item_to_label, Categorize()]]\n",
    "\n",
    "# transforms called on the item returned by the transforms above\n",
    "item_audio_tfms = [ToTensor()]"
   ]
  },
  {
   "cell_type": "markdown",
   "metadata": {},
   "source": [
    "Randomly assigning 20% of data to the validation set."
   ]
  },
  {
   "cell_type": "code",
   "execution_count": 28,
   "metadata": {},
   "outputs": [],
   "source": [
    "split_idxs = RandomSplitter()(trn_paths)\n",
    "dsrc = DataSource(trn_paths, tfms, splits=split_idxs)"
   ]
  },
  {
   "cell_type": "code",
   "execution_count": 29,
   "metadata": {},
   "outputs": [],
   "source": [
    "# last but not least - we move our entire batch to the GPU and normalize\n",
    "batch_tfms = [Cuda(), Normalize(std=mean_std)]\n",
    "\n",
    "# our databunch gets constructed right here\n",
    "# up until this point, `DataSource` defined how to go from `trn_paths` to obtaining individual items\n",
    "# here we define how to go from items to batches\n",
    "dbch = dsrc.databunch(after_item=item_audio_tfms, after_batch=batch_tfms, bs=128, num_workers=12)"
   ]
  },
  {
   "cell_type": "markdown",
   "metadata": {},
   "source": [
    "Let's verify that we indeed were able to normalize the data"
   ]
  },
  {
   "cell_type": "code",
   "execution_count": 30,
   "metadata": {},
   "outputs": [],
   "source": [
    "means, std_devs = [], []\n",
    "\n",
    "for batch in dbch.train_dl:\n",
    "    means.append(batch[0].mean().cpu().item())\n",
    "    std_devs.append(batch[0].std().mean().cpu().item())"
   ]
  },
  {
   "cell_type": "code",
   "execution_count": 31,
   "metadata": {},
   "outputs": [
    {
     "data": {
      "text/plain": [
       "(-0.00016437486457585168, 1.4162650795306189)"
      ]
     },
     "execution_count": 31,
     "metadata": {},
     "output_type": "execute_result"
    }
   ],
   "source": [
    "np.mean(means), np.mean(std_devs)"
   ]
  },
  {
   "cell_type": "markdown",
   "metadata": {},
   "source": [
    "Looks good to me!"
   ]
  },
  {
   "cell_type": "markdown",
   "metadata": {},
   "source": [
    "### Building the model"
   ]
  },
  {
   "cell_type": "markdown",
   "metadata": {},
   "source": [
    "Let's initially use the Conv1d architecture from this [tutorial](https://www.kaggle.com/fizzbuzz/beginner-s-guide-to-audio-data)"
   ]
  },
  {
   "cell_type": "code",
   "execution_count": 32,
   "metadata": {},
   "outputs": [],
   "source": [
    "def conv_block(in_channels, out_channels, kernel_size):\n",
    "    return nn.Sequential(\n",
    "        nn.Conv1d(in_channels, out_channels, kernel_size),\n",
    "        nn.ReLU(),\n",
    "        nn.BatchNorm1d(out_channels),\n",
    "        nn.Conv1d(out_channels, out_channels, kernel_size),\n",
    "        nn.ReLU(),\n",
    "        nn.BatchNorm1d(out_channels),\n",
    "    )"
   ]
  },
  {
   "cell_type": "code",
   "execution_count": 33,
   "metadata": {},
   "outputs": [],
   "source": [
    "def pool_and_dropout_block(pool_size):\n",
    "    return nn.Sequential(\n",
    "        nn.MaxPool1d(pool_size),\n",
    "        nn.Dropout(0.1)\n",
    "    )"
   ]
  },
  {
   "cell_type": "code",
   "execution_count": 34,
   "metadata": {},
   "outputs": [],
   "source": [
    "def fc_block(in_features, out_features):\n",
    "    return nn.Sequential(\n",
    "        nn.Linear(in_features, out_features),\n",
    "        nn.ReLU(),\n",
    "        nn.BatchNorm1d(out_features),\n",
    "    )"
   ]
  },
  {
   "cell_type": "code",
   "execution_count": 35,
   "metadata": {},
   "outputs": [],
   "source": [
    "arch = nn.Sequential(\n",
    "    conv_block(1, 16, 9),\n",
    "    pool_and_dropout_block(16),\n",
    "    conv_block(16, 32, 3),\n",
    "    pool_and_dropout_block(4),\n",
    "    conv_block(32, 64, 3),\n",
    "    pool_and_dropout_block(4),\n",
    "    conv_block(64, 128, 3),\n",
    "    nn.AdaptiveAvgPool1d(1),\n",
    "    Flatten(),\n",
    "    fc_block(128, 128),\n",
    "    fc_block(128, 128),\n",
    "    nn.Linear(128, dbch.c)\n",
    ")"
   ]
  },
  {
   "cell_type": "code",
   "execution_count": 36,
   "metadata": {},
   "outputs": [],
   "source": [
    "def top_3_accuracy(preds, targs): return top_k_accuracy(preds, targs, 3)"
   ]
  },
  {
   "cell_type": "code",
   "execution_count": 37,
   "metadata": {},
   "outputs": [],
   "source": [
    "learn = Learner(\n",
    "    dbch, arch, metrics=[accuracy, top_3_accuracy],\n",
    "    opt_func=partial(Adam, wd=0.01, eps=1e-3)\n",
    ")"
   ]
  },
  {
   "cell_type": "code",
   "execution_count": 38,
   "metadata": {},
   "outputs": [
    {
     "data": {
      "text/html": [],
      "text/plain": [
       "<IPython.core.display.HTML object>"
      ]
     },
     "metadata": {},
     "output_type": "display_data"
    },
    {
     "data": {
      "image/png": "[encoded data removed]",
      "text/plain": [
       "<Figure size 432x288 with 1 Axes>"
      ]
     },
     "metadata": {
      "needs_background": "light"
     },
     "output_type": "display_data"
    }
   ],
   "source": [
    "learn.lr_find()"
   ]
  },
  {
   "cell_type": "code",
   "execution_count": 39,
   "metadata": {},
   "outputs": [
    {
     "data": {
      "text/html": [
       "<table border=\"1\" class=\"dataframe\">\n",
       "  <thead>\n",
       "    <tr style=\"text-align: left;\">\n",
       "      <th>epoch</th>\n",
       "      <th>train_loss</th>\n",
       "      <th>valid_loss</th>\n",
       "      <th>accuracy</th>\n",
       "      <th>top_3_accuracy</th>\n",
       "      <th>time</th>\n",
       "    </tr>\n",
       "  </thead>\n",
       "  <tbody>\n",
       "    <tr>\n",
       "      <td>0</td>\n",
       "      <td>3.247469</td>\n",
       "      <td>3.590650</td>\n",
       "      <td>0.134108</td>\n",
       "      <td>0.294615</td>\n",
       "      <td>00:13</td>\n",
       "    </tr>\n",
       "    <tr>\n",
       "      <td>1</td>\n",
       "      <td>2.764655</td>\n",
       "      <td>3.443232</td>\n",
       "      <td>0.244456</td>\n",
       "      <td>0.410771</td>\n",
       "      <td>00:11</td>\n",
       "    </tr>\n",
       "    <tr>\n",
       "      <td>2</td>\n",
       "      <td>2.472653</td>\n",
       "      <td>4.770671</td>\n",
       "      <td>0.184794</td>\n",
       "      <td>0.333157</td>\n",
       "      <td>00:11</td>\n",
       "    </tr>\n",
       "    <tr>\n",
       "      <td>3</td>\n",
       "      <td>2.240991</td>\n",
       "      <td>3.432502</td>\n",
       "      <td>0.219113</td>\n",
       "      <td>0.431890</td>\n",
       "      <td>00:11</td>\n",
       "    </tr>\n",
       "    <tr>\n",
       "      <td>4</td>\n",
       "      <td>2.045015</td>\n",
       "      <td>2.932597</td>\n",
       "      <td>0.324710</td>\n",
       "      <td>0.550158</td>\n",
       "      <td>00:11</td>\n",
       "    </tr>\n",
       "    <tr>\n",
       "      <td>5</td>\n",
       "      <td>1.870661</td>\n",
       "      <td>2.336084</td>\n",
       "      <td>0.382260</td>\n",
       "      <td>0.604541</td>\n",
       "      <td>00:10</td>\n",
       "    </tr>\n",
       "    <tr>\n",
       "      <td>6</td>\n",
       "      <td>1.710815</td>\n",
       "      <td>2.353471</td>\n",
       "      <td>0.431890</td>\n",
       "      <td>0.640444</td>\n",
       "      <td>00:10</td>\n",
       "    </tr>\n",
       "    <tr>\n",
       "      <td>7</td>\n",
       "      <td>1.566467</td>\n",
       "      <td>1.853465</td>\n",
       "      <td>0.490496</td>\n",
       "      <td>0.715417</td>\n",
       "      <td>00:10</td>\n",
       "    </tr>\n",
       "    <tr>\n",
       "      <td>8</td>\n",
       "      <td>1.442347</td>\n",
       "      <td>1.811695</td>\n",
       "      <td>0.506336</td>\n",
       "      <td>0.723865</td>\n",
       "      <td>00:10</td>\n",
       "    </tr>\n",
       "    <tr>\n",
       "      <td>9</td>\n",
       "      <td>1.360143</td>\n",
       "      <td>1.729298</td>\n",
       "      <td>0.529567</td>\n",
       "      <td>0.738648</td>\n",
       "      <td>00:11</td>\n",
       "    </tr>\n",
       "  </tbody>\n",
       "</table>"
      ],
      "text/plain": [
       "<IPython.core.display.HTML object>"
      ]
     },
     "metadata": {},
     "output_type": "display_data"
    }
   ],
   "source": [
    "learn.fit_one_cycle(10, 3e-3)"
   ]
  },
  {
   "cell_type": "code",
   "execution_count": 40,
   "metadata": {},
   "outputs": [
    {
     "data": {
      "image/png": "[encoded data removed]",
      "text/plain": [
       "<Figure size 432x288 with 1 Axes>"
      ]
     },
     "metadata": {
      "needs_background": "light"
     },
     "output_type": "display_data"
    }
   ],
   "source": [
    "learn.recorder.plot_loss()"
   ]
  },
  {
   "cell_type": "code",
   "execution_count": 41,
   "metadata": {},
   "outputs": [],
   "source": [
    "learn.save('first_model')"
   ]
  },
  {
   "cell_type": "markdown",
   "metadata": {},
   "source": [
    "Let's grab the predictions on the test set"
   ]
  },
  {
   "cell_type": "code",
   "execution_count": 42,
   "metadata": {},
   "outputs": [
    {
     "data": {
      "text/html": [],
      "text/plain": [
       "<IPython.core.display.HTML object>"
      ]
     },
     "metadata": {},
     "output_type": "display_data"
    }
   ],
   "source": [
    "preds = learn.get_preds(dl=test_dl(dbch, tst_paths))[0]"
   ]
  },
  {
   "cell_type": "code",
   "execution_count": 43,
   "metadata": {},
   "outputs": [],
   "source": [
    "predicted_label_idxs = preds.argsort(descending=True)[:, :3]"
   ]
  },
  {
   "cell_type": "code",
   "execution_count": 44,
   "metadata": {},
   "outputs": [],
   "source": [
    "fns, predicted_labels = [], []\n",
    "\n",
    "for path, idxs in zip(tst_paths, predicted_label_idxs):\n",
    "    fns.append(path.name)\n",
    "    predicted_labels.append([dbch.vocab[idx] for idx in idxs])"
   ]
  },
  {
   "cell_type": "code",
   "execution_count": 45,
   "metadata": {},
   "outputs": [],
   "source": [
    "sub = pd.DataFrame({'fname': fns, 'label': predicted_labels})\n",
    "sub.label = sub.label.apply(lambda lst: ' '.join(lst))"
   ]
  },
  {
   "cell_type": "code",
   "execution_count": 46,
   "metadata": {},
   "outputs": [
    {
     "data": {
      "text/html": [
       "<div>\n",
       "<style scoped>\n",
       "    .dataframe tbody tr th:only-of-type {\n",
       "        vertical-align: middle;\n",
       "    }\n",
       "\n",
       "    .dataframe tbody tr th {\n",
       "        vertical-align: top;\n",
       "    }\n",
       "\n",
       "    .dataframe thead th {\n",
       "        text-align: right;\n",
       "    }\n",
       "</style>\n",
       "<table border=\"1\" class=\"dataframe\">\n",
       "  <thead>\n",
       "    <tr style=\"text-align: right;\">\n",
       "      <th></th>\n",
       "      <th>fname</th>\n",
       "      <th>label</th>\n",
       "    </tr>\n",
       "  </thead>\n",
       "  <tbody>\n",
       "    <tr>\n",
       "      <th>0</th>\n",
       "      <td>d2217d56.wav</td>\n",
       "      <td>Bass_drum Knock Burping_or_eructation</td>\n",
       "    </tr>\n",
       "    <tr>\n",
       "      <th>1</th>\n",
       "      <td>614a7c76.wav</td>\n",
       "      <td>Flute Clarinet Saxophone</td>\n",
       "    </tr>\n",
       "    <tr>\n",
       "      <th>2</th>\n",
       "      <td>02198549.wav</td>\n",
       "      <td>Keys_jangling Scissors Computer_keyboard</td>\n",
       "    </tr>\n",
       "    <tr>\n",
       "      <th>3</th>\n",
       "      <td>e6eb9ec4.wav</td>\n",
       "      <td>Saxophone Clarinet Flute</td>\n",
       "    </tr>\n",
       "    <tr>\n",
       "      <th>4</th>\n",
       "      <td>0da592f2.wav</td>\n",
       "      <td>Clarinet Flute Saxophone</td>\n",
       "    </tr>\n",
       "  </tbody>\n",
       "</table>\n",
       "</div>"
      ],
      "text/plain": [
       "          fname                                     label\n",
       "0  d2217d56.wav     Bass_drum Knock Burping_or_eructation\n",
       "1  614a7c76.wav                  Flute Clarinet Saxophone\n",
       "2  02198549.wav  Keys_jangling Scissors Computer_keyboard\n",
       "3  e6eb9ec4.wav                  Saxophone Clarinet Flute\n",
       "4  0da592f2.wav                  Clarinet Flute Saxophone"
      ]
     },
     "execution_count": 46,
     "metadata": {},
     "output_type": "execute_result"
    }
   ],
   "source": [
    "sub.head()"
   ]
  },
  {
   "cell_type": "code",
   "execution_count": 47,
   "metadata": {},
   "outputs": [],
   "source": [
    "mkdir -p data/submissions"
   ]
  },
  {
   "cell_type": "code",
   "execution_count": 48,
   "metadata": {},
   "outputs": [],
   "source": [
    "sub_name = 'first_model'\n",
    "sub.to_csv(f'data/submissions/{sub_name}.csv.zip', compression='zip', index=False)"
   ]
  },
  {
   "cell_type": "code",
   "execution_count": 49,
   "metadata": {},
   "outputs": [
    {
     "name": "stdout",
     "output_type": "stream",
     "text": [
      "100%|██████████████████████████████████████| 88.2k/88.2k [00:03<00:00, 25.7kB/s]\n",
      "Successfully submitted to Freesound General-Purpose Audio Tagging Challenge"
     ]
    }
   ],
   "source": [
    "!kaggle competitions submit -c freesound-audio-tagging -f data/submissions/{sub_name}.csv.zip -m {sub_name}"
   ]
  }
 ],
 "metadata": {
  "kernelspec": {
   "display_name": "Python 3",
   "language": "python",
   "name": "python3"
  },
  "language_info": {
   "codemirror_mode": {
    "name": "ipython",
    "version": 3
   },
   "file_extension": ".py",
   "mimetype": "text/x-python",
   "name": "python",
   "nbconvert_exporter": "python",
   "pygments_lexer": "ipython3",
   "version": "3.7.5"
  }
 },
 "nbformat": 4,
 "nbformat_minor": 2
}
